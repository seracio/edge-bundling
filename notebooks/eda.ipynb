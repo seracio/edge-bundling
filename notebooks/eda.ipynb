{
 "metadata": {
  "language_info": {
   "codemirror_mode": {
    "name": "ipython",
    "version": 3
   },
   "file_extension": ".py",
   "mimetype": "text/x-python",
   "name": "python",
   "nbconvert_exporter": "python",
   "pygments_lexer": "ipython3",
   "version": "3.7.6-final"
  },
  "orig_nbformat": 2,
  "kernelspec": {
   "name": "python3",
   "display_name": "Python 3"
  }
 },
 "nbformat": 4,
 "nbformat_minor": 2,
 "cells": [
  {
   "source": [
    "# Migrations résidentielles en 2017 : lieu de résidence actuelle - lieu de résidence antérieure\n",
    "\n",
    "Source : https://www.insee.fr/fr/statistiques/4509335\n"
   ],
   "cell_type": "markdown",
   "metadata": {}
  },
  {
   "cell_type": "code",
   "execution_count": 1,
   "metadata": {},
   "outputs": [],
   "source": [
    "import pandas as pd"
   ]
  },
  {
   "cell_type": "code",
   "execution_count": 56,
   "metadata": {},
   "outputs": [],
   "source": [
    "flux = pd.read_csv('../data/insee/base-flux-mobilite-residentielle-2017.csv', sep=\";\", dtype={'CODGEO': str, 'DCRAN': str})"
   ]
  },
  {
   "cell_type": "code",
   "execution_count": 57,
   "metadata": {},
   "outputs": [
    {
     "output_type": "execute_result",
     "data": {
      "text/plain": [
       "477803"
      ]
     },
     "metadata": {},
     "execution_count": 57
    }
   ],
   "source": [
    "len(flux)"
   ]
  },
  {
   "cell_type": "code",
   "execution_count": 66,
   "metadata": {},
   "outputs": [],
   "source": [
    "big_communes = (flux\n",
    "    [\n",
    "        (flux['CODGEO'] == flux['DCRAN'])\n",
    "        & (flux['DCRAN'].str[0:2] != '97')\n",
    "        & (flux['CODGEO'].str[0:2] != '97')\n",
    "    ]\n",
    "    .query('NBFLUX_C17_POP01P >= 50000')\n",
    "    [['CODGEO']]\n",
    "    .drop_duplicates(['CODGEO'])\n",
    ")"
   ]
  },
  {
   "cell_type": "code",
   "execution_count": 67,
   "metadata": {},
   "outputs": [],
   "source": [
    "big_flux = (flux\n",
    "    [\n",
    "        (flux['CODGEO'].isin(big_communes['CODGEO'])) \n",
    "        & (flux['DCRAN'].isin(big_communes['CODGEO']))\n",
    "        & (flux['DCRAN'] != flux['CODGEO'])        \n",
    "    ]\n",
    "    .rename(columns={\n",
    "        'DCRAN': 'input',\n",
    "        'CODGEO': 'output',\n",
    "        'NBFLUX_C17_POP01P': 'count'\n",
    "    })\n",
    "    [['input','output','count']]    \n",
    ")\n",
    "\n",
    "big_flux.to_csv('../public/data/flux.csv', sep=';', index=False, float_format=\"%.0f\")"
   ]
  },
  {
   "cell_type": "code",
   "execution_count": 20,
   "metadata": {},
   "outputs": [],
   "source": [
    "import geopandas as gpd"
   ]
  },
  {
   "cell_type": "code",
   "execution_count": 75,
   "metadata": {},
   "outputs": [],
   "source": [
    "coms = gpd.read_file('../data/ign/COMMUNE.shp')\n",
    "(coms\n",
    "    [coms['INSEE_COM'].isin(big_communes['CODGEO'])]\n",
    "    [['INSEE_COM','geometry']]    \n",
    "    .assign(geometry = lambda df: df['geometry'].centroid)\n",
    "    .to_file('../public/data/communes.geo.json', driver='GeoJSON')\n",
    ")"
   ]
  },
  {
   "cell_type": "code",
   "execution_count": 74,
   "metadata": {},
   "outputs": [
    {
     "output_type": "execute_result",
     "data": {
      "text/plain": [
       "14044    POINT (5.96625 46.83345)\n",
       "31443    POINT (5.43229 45.31399)\n",
       "23064    POINT (1.62139 43.49846)\n",
       "dtype: geometry"
      ]
     },
     "metadata": {},
     "execution_count": 74
    }
   ],
   "source": [
    "coms.sample(3)['geometry'].centroid"
   ]
  },
  {
   "cell_type": "code",
   "execution_count": null,
   "metadata": {},
   "outputs": [],
   "source": []
  }
 ]
}